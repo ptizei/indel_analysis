{
 "cells": [
  {
   "cell_type": "code",
   "execution_count": null,
   "metadata": {},
   "outputs": [],
   "source": [
    "# default_exp readproc"
   ]
  },
  {
   "cell_type": "markdown",
   "metadata": {},
   "source": [
    "# readproc\n",
    "\n",
    "This module can be used to generate '.csv' files containing counts for each read in a '.fasta' file.\n",
    "\n",
    "> API details\n",
    "\n"
   ]
  },
  {
   "cell_type": "code",
   "execution_count": null,
   "metadata": {},
   "outputs": [],
   "source": [
    "#hide\n",
    "from nbdev.showdoc import *\n",
    "\n"
   ]
  },
  {
   "cell_type": "code",
   "execution_count": null,
   "metadata": {},
   "outputs": [],
   "source": [
    "#export\n",
    "import re\n",
    "from pathlib import Path\n",
    "import pandas as pd\n",
    "\n",
    "\n",
    "def trim_cterm(inputFile, outputFile, motifToTrim):\n",
    "    with open(inputFile, 'r') as inputFH:\n",
    "        with open(outputFile,'w') as outputFH:\n",
    "            i = 0\n",
    "            for line in inputFH:\n",
    "                i += 1\n",
    "                if i%2 ==1: outputFH.write(line)\n",
    "                else:\n",
    "                    line = re.sub(motifToTrim, '', line)\n",
    "                    #line += '\\n'\n",
    "                    outputFH.write(line)\n",
    "\n",
    "                    \n",
    "def fasta_to_counts(inputFile):\n",
    "    \n",
    "    \n",
    "    df_seq_counts = pd.DataFrame()\n",
    "    cur_name = ''\n",
    "    cur_seq = ''\n",
    "    dict_temp_seqs = {}\n",
    "    i = 0\n",
    "    #make a temporary dict for counting seqs\n",
    "    with open(inputFile, 'r') as inputFH:\n",
    "        for line in inputFH:\n",
    "            #print(i)\n",
    "            if line[0] == '>': # lines starting with '>' are seq names \n",
    "                if cur_name != '': #add previous seq to dict, if it exists\n",
    "                    dict_temp_seqs = increment_seq_counts(dict_temp_seqs, cur_name, cur_seq)\n",
    "                    #if cur_name in dict_temp_seqs.keys():\n",
    "                    #    dict_temp_seqs[cur_name][1] += 1 # add 1 to count for cur_seq\n",
    "                    #else:\n",
    "                    #    dict_temp_seqs[cur_name] = [cur_seq, 1]\n",
    "                cur_name = line.rstrip()[1:] # strip newline and '>'\n",
    "                cur_seq = ''\n",
    "                i += 1\n",
    "            else: # odd lines are the actual sequences, concatenate until a new sequence starts\n",
    "                cur_seq += line.rstrip()\n",
    "               # print(cur_seq)\n",
    "        dict_temp_seqs = increment_seq_counts(dict_temp_seqs, cur_name,cur_seq)\n",
    "        #if cur_name in dict_temp_seqs.keys(): #add the last seq to the dict\n",
    "        #    dict_temp_seqs[cur_name][1] += 1\n",
    "        #else:\n",
    "        #    dict_temp_seqs[cur_name] =  [cur_seq, 1]\n",
    "            \n",
    "                \n",
    "    return dict_temp_seqs\n",
    "\n",
    "def increment_seq_counts(seq_dict, cur_seq_name, cur_seq):\n",
    "    if cur_seq_name in seq_dict.keys():\n",
    "        seq_dict[cur_seq_name][0] +=1\n",
    "    else:\n",
    "        seq_dict[cur_seq_name] = [1, cur_seq]\n",
    "    return seq_dict\n",
    "\n",
    "\n",
    "def dict_to_df(seq_dict):\n",
    "    dict_for_df={}\n",
    "    for i, cur_name in enumerate(seq_dict):\n",
    "        cur_count = seq_dict[cur_name][0]\n",
    "        cur_seq = seq_dict[cur_name][1]\n",
    "        cur_seqZ = 'Z' + cur_seq + 'Z' \n",
    "        dict_for_df[i] = [cur_name, seq_dict[cur_name][0],cur_seq, cur_seqZ]\n",
    "    df_seqs = pd.DataFrame.from_dict(dict_for_df, orient='index', columns=['seq_name', 'count', 'seq', 'seqZ'])\n",
    "    return df_seqs\n",
    "    \n",
    "    \n",
    "#def df_to_csv:\n",
    "\n",
    "    \n",
    "    #make a second dic with the final counts and also the sequences with terminal Zs, to build the DF\n",
    "\n"
   ]
  },
  {
   "cell_type": "markdown",
   "metadata": {},
   "source": [
    "# Testing"
   ]
  },
  {
   "cell_type": "markdown",
   "metadata": {},
   "source": [
    "## trim_cterm"
   ]
  },
  {
   "cell_type": "code",
   "execution_count": null,
   "metadata": {},
   "outputs": [],
   "source": [
    "test_input_path = Path.cwd()/'tests/test-trim-in.fasta'\n",
    "test_trimmed_output_path = Path.cwd()/'tests/test-trim-out.fasta'\n",
    "test_cterm_pattern_to_trim = 'LNEAIP.*$'\n",
    "\n",
    "trim_cterm(test_input_path, test_trimmed_output_path, test_cterm_pattern_to_trim)\n",
    "\n",
    "with open(test_trimmed_output_path, 'r') as test_FH:\n",
    "    for i,line in enumerate(test_FH):\n",
    "        if i == 0:\n",
    "            assert line.rstrip() == '>123'\n",
    "        if i == 1:\n",
    "            assert line.rstrip() == 'CCC'\n",
    "        if i == 2:\n",
    "            assert line.rstrip() == '>128378'\n",
    "        if i == 3:\n",
    "            assert line.rstrip() == 'CCAC'\n",
    "    \n",
    "    assert i == 3"
   ]
  },
  {
   "cell_type": "markdown",
   "metadata": {},
   "source": [
    "## fasta_to_counts"
   ]
  },
  {
   "cell_type": "code",
   "execution_count": null,
   "metadata": {},
   "outputs": [],
   "source": [
    "test_count_input_path = Path.cwd()/'tests/test-count-in.fasta' \n",
    "test_dict = fasta_to_counts(test_count_input_path)\n",
    "df_seqs = dict_to_df(test_dict)\n",
    "\n",
    "assert df_seqs['seq_name'][0] == '123'\n",
    "assert df_seqs['seq_name'][1] == '128378'\n",
    "assert df_seqs['count'][0]    == 2\n",
    "assert df_seqs['count'][1]    == 3\n",
    "assert df_seqs['seq'][0]      == 'CCC'\n",
    "assert df_seqs['seq'][1]      == 'CCAC'\n",
    "assert df_seqs['seqZ'][0]     == 'ZCCCZ'\n",
    "assert df_seqs['seqZ'][1]     == 'ZCCACZ'\n"
   ]
  }
 ],
 "metadata": {
  "kernelspec": {
   "display_name": "Python 3",
   "language": "python",
   "name": "python3"
  }
 },
 "nbformat": 4,
 "nbformat_minor": 2
}
