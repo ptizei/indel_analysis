{
 "cells": [
  {
   "cell_type": "code",
   "execution_count": null,
   "metadata": {},
   "outputs": [],
   "source": [
    "# default_exp readproc"
   ]
  },
  {
   "cell_type": "markdown",
   "metadata": {},
   "source": [
    "# readproc\n",
    "\n",
    "This module can be used to generate '.csv' files containing counts for each read in a '.fasta' file.\n",
    "\n",
    "> API details\n",
    "\n"
   ]
  },
  {
   "cell_type": "code",
   "execution_count": null,
   "metadata": {},
   "outputs": [],
   "source": [
    "#hide\n",
    "from nbdev.showdoc import *\n",
    "\n"
   ]
  },
  {
   "cell_type": "code",
   "execution_count": null,
   "metadata": {},
   "outputs": [
    {
     "name": "stdout",
     "output_type": "stream",
     "text": [
      "0\n",
      "1\n",
      "CCC\n",
      "1\n",
      "2\n",
      "CCAC\n",
      "2\n",
      "3\n",
      "CCC\n",
      "3\n",
      "4\n",
      "CCAC\n",
      "4\n",
      "5\n",
      "CCAC\n"
     ]
    },
    {
     "data": {
      "text/plain": [
       "{'123': ['CCC', 2], '128378': ['CCAC', 3]}"
      ]
     },
     "execution_count": null,
     "metadata": {},
     "output_type": "execute_result"
    }
   ],
   "source": [
    "#export\n",
    "import re\n",
    "from pathlib import Path\n",
    "import pandas as pd\n",
    "\n",
    "\n",
    "def trim_cterm(inputFile, outputFile, motifToTrim):\n",
    "    with open(inputFile, 'r') as inputFH:\n",
    "        with open(outputFile,'w') as outputFH:\n",
    "            i = 0\n",
    "            for line in inputFH:\n",
    "                i += 1\n",
    "                if i%2 ==1: outputFH.write(line)\n",
    "                else:\n",
    "                    line = re.sub(motifToTrim, '', line)\n",
    "                    #line += '\\n'\n",
    "                    outputFH.write(line)\n",
    "\n",
    "                    \n",
    "def fasta_to_counts(inputFile):\n",
    "    \n",
    "    \n",
    "    df_seq_counts = pd.DataFrame()\n",
    "    cur_name = ''\n",
    "    cur_seq = ''\n",
    "    dict_temp_seqs = {}\n",
    "    i = 0\n",
    "    #make a temporary dict for counting seqs\n",
    "    with open(inputFile, 'r') as inputFH:\n",
    "        for line in inputFH:\n",
    "            print(i)\n",
    "            if line[0] == '>': # lines starting with '>' are seq names \n",
    "                if cur_name != '': #add previous seq to dict, if it exists\n",
    "                    if cur_name in dict_temp_seqs.keys():\n",
    "                        dict_temp_seqs[cur_name][1] += 1 # add 1 to count for cur_seq\n",
    "                    else:\n",
    "                        dict_temp_seqs[cur_name] = [cur_seq, 1]\n",
    "                cur_name = line.rstrip()[1:] # strip newline and '>'\n",
    "                cur_seq = ''\n",
    "                i += 1\n",
    "            else: # odd lines are the actual sequences, concatenate until a new sequence starts\n",
    "                cur_seq += line.rstrip()\n",
    "                print(cur_seq)\n",
    "        if cur_name in dict_temp_seqs.keys(): #add the last seq to the dict\n",
    "            dict_temp_seqs[cur_name][1] += 1\n",
    "        else:\n",
    "            dict_temp_seqs[cur_name] =  [cur_seq, 1]\n",
    "            \n",
    "                \n",
    "    return dict_temp_seqs\n",
    "\n",
    "def dict_to_df:\n",
    "\n",
    "\n",
    "def df_to_csv:\n",
    "\n",
    "    \n",
    "    #make a second dic with the final counts and also the sequences with terminal Zs, to build the DF\n",
    "test_count_input_path = Path.cwd()/'tests/test-count-in.fasta' \n",
    "fasta_to_counts(test_count_input_path)"
   ]
  },
  {
   "cell_type": "code",
   "execution_count": null,
   "metadata": {},
   "outputs": [
    {
     "name": "stdout",
     "output_type": "stream",
     "text": [
      "no\n"
     ]
    },
    {
     "data": {
      "text/plain": [
       "{1: ['CCG', 2, 'ZCCGZ', 'abc'], 2: ['GTN', 3, 'ZCCGZ', 'cbdg']}"
      ]
     },
     "execution_count": null,
     "metadata": {},
     "output_type": "execute_result"
    }
   ],
   "source": [
    "data = {1: ['CCG', 1, 'ZCCGZ', 'abc'], 2: ['GTN', 3, 'ZCCGZ', 'cbdg']}\n",
    "\n",
    "df_test = pd.DataFrame.from_dict(data, orient='index', columns=['seq', 'count', 'seqZ', 'seqname'])\n",
    "df_test\n",
    "if 3 in data.keys(): print('yes')\n",
    "else: print('no')\n",
    "data[1][1] +=1\n",
    "data"
   ]
  },
  {
   "cell_type": "code",
   "execution_count": null,
   "metadata": {},
   "outputs": [
    {
     "name": "stdout",
     "output_type": "stream",
     "text": [
      ">abc \n",
      "\n",
      "abc\n"
     ]
    },
    {
     "data": {
      "text/plain": [
       "'abababab'"
      ]
     },
     "execution_count": null,
     "metadata": {},
     "output_type": "execute_result"
    }
   ],
   "source": [
    "line = '>abc \\n'\n",
    "seq = line.rstrip()[1:]\n",
    "print(line)\n",
    "print(seq)\n",
    "line[0]\n",
    "cur_seq += 'ab'\n",
    "cur_seq"
   ]
  },
  {
   "cell_type": "markdown",
   "metadata": {},
   "source": [
    "Testing"
   ]
  },
  {
   "cell_type": "code",
   "execution_count": null,
   "metadata": {},
   "outputs": [
    {
     "ename": "AssertionError",
     "evalue": "",
     "output_type": "error",
     "traceback": [
      "\u001b[1;31m---------------------------------------------------------------------------\u001b[0m",
      "\u001b[1;31mAssertionError\u001b[0m                            Traceback (most recent call last)",
      "\u001b[1;32m<ipython-input-5-104bb349e046>\u001b[0m in \u001b[0;36m<module>\u001b[1;34m\u001b[0m\n\u001b[0;32m     16\u001b[0m             \u001b[1;32massert\u001b[0m \u001b[0mline\u001b[0m\u001b[1;33m.\u001b[0m\u001b[0mrstrip\u001b[0m\u001b[1;33m(\u001b[0m\u001b[1;33m)\u001b[0m \u001b[1;33m==\u001b[0m \u001b[1;34m'CCAC'\u001b[0m\u001b[1;33m\u001b[0m\u001b[1;33m\u001b[0m\u001b[0m\n\u001b[0;32m     17\u001b[0m \u001b[1;33m\u001b[0m\u001b[0m\n\u001b[1;32m---> 18\u001b[1;33m     \u001b[1;32massert\u001b[0m \u001b[0mi\u001b[0m \u001b[1;33m==\u001b[0m \u001b[1;36m4\u001b[0m\u001b[1;33m\u001b[0m\u001b[1;33m\u001b[0m\u001b[0m\n\u001b[0m",
      "\u001b[1;31mAssertionError\u001b[0m: "
     ]
    }
   ],
   "source": [
    "test_input_path = Path.cwd()/'tests/test-trim-in.fasta'\n",
    "test_trimmed_output_path = Path.cwd()/'tests/test-trim-out.fasta'\n",
    "test_cterm_pattern_to_trim = 'LNEAIP.*$'\n",
    "\n",
    "trim_cterm(test_input_path, test_trimmed_output_path, test_cterm_pattern_to_trim)\n",
    "\n",
    "with open(test_trimmed_output_path, 'r') as test_FH:\n",
    "    for i,line in enumerate(test_FH):\n",
    "        if i == 0:\n",
    "            assert line.rstrip() == '>123'\n",
    "        if i == 1:\n",
    "            assert line.rstrip() == 'CCC'\n",
    "        if i == 2:\n",
    "            assert line.rstrip() == '>128378'\n",
    "        if i == 3:\n",
    "            assert line.rstrip() == 'CCAC'\n",
    "    \n",
    "    assert i == 3"
   ]
  },
  {
   "cell_type": "code",
   "execution_count": null,
   "metadata": {},
   "outputs": [],
   "source": []
  }
 ],
 "metadata": {
  "kernelspec": {
   "display_name": "Python 3",
   "language": "python",
   "name": "python3"
  }
 },
 "nbformat": 4,
 "nbformat_minor": 2
}
