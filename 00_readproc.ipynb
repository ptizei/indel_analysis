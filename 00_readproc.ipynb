{
 "cells": [
  {
   "cell_type": "code",
   "execution_count": null,
   "metadata": {},
   "outputs": [],
   "source": [
    "# default_exp readproc"
   ]
  },
  {
   "cell_type": "markdown",
   "metadata": {},
   "source": [
    "# module name here\n",
    "\n",
    "> API details."
   ]
  },
  {
   "cell_type": "code",
   "execution_count": 3,
   "metadata": {
    "ExecuteTime": {
     "end_time": "2020-11-08T14:25:20.421395Z",
     "start_time": "2020-11-08T14:25:20.417405Z"
    }
   },
   "outputs": [],
   "source": [
    "#hide\n",
    "from nbdev.showdoc import *\n",
    "\n"
   ]
  },
  {
   "cell_type": "code",
   "execution_count": 13,
   "metadata": {
    "ExecuteTime": {
     "end_time": "2020-11-08T14:50:02.153191Z",
     "start_time": "2020-11-08T14:50:02.147206Z"
    }
   },
   "outputs": [],
   "source": [
    "#export\n",
    "import re\n",
    "from pathlib import Path\n",
    "\n",
    "\n",
    "def trim_cterm(inputFile, outputFile, motifToTrim):\n",
    "    with open(inputFile, 'r') as inputFH:\n",
    "        with open(outputFile,'w') as outputFH:\n",
    "            i = 0\n",
    "            for line in inputFH:\n",
    "                i += 1\n",
    "                if i%2 ==1: outputFH.write(line)\n",
    "                else:\n",
    "                    line = re.sub(motifToTrim, '', line)\n",
    "                    #line += '\\n'\n",
    "                    outputFH.write(line)"
   ]
  },
  {
   "cell_type": "markdown",
   "metadata": {},
   "source": [
    "Testing"
   ]
  },
  {
   "cell_type": "code",
   "execution_count": 16,
   "metadata": {
    "ExecuteTime": {
     "end_time": "2020-11-08T14:51:30.127566Z",
     "start_time": "2020-11-08T14:51:30.120587Z"
    }
   },
   "outputs": [],
   "source": [
    "test_input_path = Path.cwd()/'tests/test.fasta'\n",
    "test_trimmed_output_path = Path.cwd()/'tests/test-out.fasta'\n",
    "test_cterm_pattern_to_trim = 'LNEAIP.*$'\n",
    "\n",
    "trim_cterm(test_input_path, test_trimmed_output_path, test_cterm_pattern_to_trim)\n",
    "\n",
    "with open(test_trimmed_output_path, 'r') as test_FH:\n",
    "    for i,line in enumerate(test_FH):\n",
    "        if i == 0:\n",
    "            assert line.rstrip() == '>123'\n",
    "        if i == 1:\n",
    "            assert line.rstrip() == 'CCC'\n",
    "        if i == 2:\n",
    "            assert line.rstrip() == '>128378'\n",
    "        if i == 3:\n",
    "            assert line.rstrip() == 'CCAC'\n",
    "    \n",
    "    assert i == 3"
   ]
  },
  {
   "cell_type": "code",
   "execution_count": null,
   "metadata": {},
   "outputs": [],
   "source": []
  }
 ],
 "metadata": {
  "kernelspec": {
   "display_name": "Python 3",
   "language": "python",
   "name": "python3"
  },
  "language_info": {
   "codemirror_mode": {
    "name": "ipython",
    "version": 3
   },
   "file_extension": ".py",
   "mimetype": "text/x-python",
   "name": "python",
   "nbconvert_exporter": "python",
   "pygments_lexer": "ipython3",
   "version": "3.7.3"
  },
  "toc": {
   "base_numbering": 1,
   "nav_menu": {},
   "number_sections": true,
   "sideBar": true,
   "skip_h1_title": false,
   "title_cell": "Table of Contents",
   "title_sidebar": "Contents",
   "toc_cell": false,
   "toc_position": {},
   "toc_section_display": true,
   "toc_window_display": false
  },
  "varInspector": {
   "cols": {
    "lenName": 16,
    "lenType": 16,
    "lenVar": 40
   },
   "kernels_config": {
    "python": {
     "delete_cmd_postfix": "",
     "delete_cmd_prefix": "del ",
     "library": "var_list.py",
     "varRefreshCmd": "print(var_dic_list())"
    },
    "r": {
     "delete_cmd_postfix": ") ",
     "delete_cmd_prefix": "rm(",
     "library": "var_list.r",
     "varRefreshCmd": "cat(var_dic_list()) "
    }
   },
   "types_to_exclude": [
    "module",
    "function",
    "builtin_function_or_method",
    "instance",
    "_Feature"
   ],
   "window_display": false
  }
 },
 "nbformat": 4,
 "nbformat_minor": 2
}
