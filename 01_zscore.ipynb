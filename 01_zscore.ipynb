{
 "cells": [
  {
   "cell_type": "code",
   "execution_count": null,
   "metadata": {},
   "outputs": [],
   "source": [
    "# default_exp zscore"
   ]
  },
  {
   "cell_type": "markdown",
   "metadata": {},
   "source": [
    "# zscore\n",
    "\n",
    "This module can be used to calculate enrichment z-scores from pre- and post-selection '.csv' files containing read counts\n",
    "\n",
    "> API details"
   ]
  },
  {
   "cell_type": "code",
   "execution_count": null,
   "metadata": {},
   "outputs": [],
   "source": [
    "#hide\n",
    "from nbdev.showdoc import *\n",
    "from pathlib import Path\n",
    "import pandas as pd\n",
    "\n"
   ]
  },
  {
   "cell_type": "code",
   "execution_count": null,
   "metadata": {},
   "outputs": [],
   "source": [
    "# STEPS TO IMPLEMENT\n",
    "\n",
    "#make a dataframe from each input csv\n",
    "    # same func for pos and neg?\n",
    "    # \n",
    "#read in library sizes from separate .csv\n",
    "#calculate ratio of neg and pos lib sizes to use in Zscore calc\n",
    "    # one func to do both\n",
    "\n",
    "neg_counts_csv = Path.cwd()/'tests/test-selection-pre-in.csv'\n",
    "pos_counts_csv = Path.cwd()/'tests/test-selection-post-in.csv'\n",
    "zscore_csv = Path.cwd()/'tests/test-selection-zscore-out.csv'\n",
    "    \n",
    "def calc_enrichment_zscores(input_neg_file, input_pos_file, input_libsize_file, output_file):\n",
    "    df_neg = read_count_csv(input_neg_file)\n",
    "    df_pos = read_count_csv(input_pos_file)\n",
    "    print(df_neg.head())\n",
    "    print(df_pos.head())\n",
    "    \n",
    "def read_count_csv(input_file):\n",
    "    df_count = pd.read_csv(input_file,\n",
    "                        index_col = 0,\n",
    "                        dtype = {'seq_name': str, 'count': int, 'seq': str, 'seqZ': str})\n",
    "    return df_count \n",
    "\n",
    "\n",
    "#make a dataframe to hold the combined counts, the raw enrichment ratio and the final zscore\n",
    "#copy all pos dataframe data into the combined df\n",
    "\n",
    "#loop over neg dataframe and add counts to "
   ]
  },
  {
   "cell_type": "code",
   "execution_count": null,
   "metadata": {},
   "outputs": [
    {
     "name": "stdout",
     "output_type": "stream",
     "text": [
      "  seq_name  count   seq    seqZ\n",
      "0      123      2   CCC   ZCCCZ\n",
      "1   128378      3  CCAC  ZCCACZ\n",
      "  seq_name  count   seq    seqZ\n",
      "0      123     10   CCC   ZCCCZ\n",
      "1   128378      2  CCAC  ZCCACZ\n"
     ]
    }
   ],
   "source": [
    "calc_enrichment_zscores(neg_counts_csv, pos_counts_csv, zscore_csv, zscore_csv)\n"
   ]
  },
  {
   "cell_type": "markdown",
   "metadata": {},
   "source": [
    "# Testing\n"
   ]
  },
  {
   "cell_type": "code",
   "execution_count": null,
   "metadata": {},
   "outputs": [],
   "source": [
    "test_selection_pre_input_csv_path = Path.cwd()/'tests/test-selection-pre-in.csv'\n",
    "test_selection_post_input_csv_path = Path.cwd()/'tests/test-selection-post-in.csv'\n",
    "\n",
    "df_test_pre=read_count_csv(test_selection_pre_input_csv_path)\n",
    "df_test_post=read_count_csv(test_selection_post_input_csv_path)\n",
    "\n",
    "\n",
    "assert isinstance(df_test_pre, pd.core.frame.DataFrame)\n",
    "assert df_test_pre['count'][0] == 2\n",
    "assert df_test_pre['seqZ'][0] == 'ZCCCZ'\n",
    "\n",
    "\n",
    "assert isinstance(df_test_post, pd.core.frame.DataFrame)\n",
    "assert df_test_post['count'][0] == 10\n",
    "assert df_test_post['seqZ'][0] == 'ZCCCZ'"
   ]
  }
 ],
 "metadata": {
  "kernelspec": {
   "display_name": "Python 3",
   "language": "python",
   "name": "python3"
  }
 },
 "nbformat": 4,
 "nbformat_minor": 4
}
