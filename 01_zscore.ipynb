{
 "cells": [
  {
   "cell_type": "code",
   "execution_count": null,
   "metadata": {},
   "outputs": [],
   "source": [
    "# default_exp zscore"
   ]
  },
  {
   "cell_type": "markdown",
   "metadata": {},
   "source": [
    "# zscore\n",
    "\n",
    "This module can be used to calculate enrichment z-scores from pre- and post-selection '.csv' files containing read counts\n",
    "\n",
    "> API details"
   ]
  },
  {
   "cell_type": "code",
   "execution_count": null,
   "metadata": {},
   "outputs": [],
   "source": [
    "#hide\n",
    "from nbdev.showdoc import *\n",
    "from pathlib import Path\n",
    "import pandas as pd\n",
    "\n"
   ]
  },
  {
   "cell_type": "code",
   "execution_count": null,
   "metadata": {},
   "outputs": [],
   "source": [
    "# STEPS TO IMPLEMENT\n",
    "\n",
    "#make a dataframe from each input csv\n",
    "    # same func for pos and neg?\n",
    "    # \n",
    "#read in library sizes from separate .csv\n",
    "#calculate ratio of neg and pos lib sizes to use in Zscore calc\n",
    "    # one func to do both\n",
    "\n",
    "neg_counts_csv = Path.cwd()/'tests/test-selection-pre-in.csv'\n",
    "pos_counts_csv = Path.cwd()/'tests/test-selection-post-in.csv'\n",
    "    \n",
    "def calc_enrichment_zscores(input_neg_file, input_pos_file, input_libsize_file, output_file):\n",
    "    df_neg = pd.read_csv(neg_counts_csv,\n",
    "                        index_col = 0,\n",
    "                        dtype = {'seq_name': str, 'count': int, 'seq': str, 'seqZ': str})\n",
    "    df_pos = pd.read_csv(neg_counts_csv,\n",
    "                        index_col = 0,\n",
    "                        dtype = {'seq_name': str, 'count': int, 'seq': str, 'seqZ': str})\n",
    "\n",
    "\n",
    "#make a dataframe to hold the combined counts, the raw enrichment ratio and the final zscore\n",
    "#copy all pos dataframe data into the combined df\n",
    "\n",
    "#loop over neg dataframe and add counts to "
   ]
  },
  {
   "cell_type": "markdown",
   "metadata": {},
   "source": [
    "# Testing\n"
   ]
  },
  {
   "cell_type": "code",
   "execution_count": null,
   "metadata": {},
   "outputs": [],
   "source": [
    "test_selection_pre_input_csv_path = Path.cwd()/'tests/test-selection-pre-in.csv'\n",
    "test_selection_post_input_csv_path = Path.cwd()/'tests/test-selection-post-in.csv'\n",
    "\n",
    "df_test_pre = pd.read_csv(test_selection_pre_input_csv_path,\n",
    "                      index_col = 0,\n",
    "                     dtype = {'seq_name': str, 'count': int, 'seq': str, 'seqZ': str})\n",
    "assert isinstance(df_test_pre, pd.core.frame.DataFrame)\n",
    "\n",
    "df_test_post = pd.read_csv(test_selection_post_input_csv_path,\n",
    "                      index_col = 0,\n",
    "                     dtype = {'seq_name': str, 'count': int, 'seq': str, 'seqZ': str})\n",
    "assert isinstance(df_test_post, pd.core.frame.DataFrame)"
   ]
  },
  {
   "cell_type": "code",
   "execution_count": null,
   "metadata": {},
   "outputs": [
    {
     "data": {
      "text/html": [
       "<div>\n",
       "<style scoped>\n",
       "    .dataframe tbody tr th:only-of-type {\n",
       "        vertical-align: middle;\n",
       "    }\n",
       "\n",
       "    .dataframe tbody tr th {\n",
       "        vertical-align: top;\n",
       "    }\n",
       "\n",
       "    .dataframe thead th {\n",
       "        text-align: right;\n",
       "    }\n",
       "</style>\n",
       "<table border=\"1\" class=\"dataframe\">\n",
       "  <thead>\n",
       "    <tr style=\"text-align: right;\">\n",
       "      <th></th>\n",
       "      <th>seq_name</th>\n",
       "      <th>count</th>\n",
       "      <th>seq</th>\n",
       "      <th>seqZ</th>\n",
       "    </tr>\n",
       "  </thead>\n",
       "  <tbody>\n",
       "    <tr>\n",
       "      <th>0</th>\n",
       "      <td>123</td>\n",
       "      <td>10</td>\n",
       "      <td>CCC</td>\n",
       "      <td>ZCCCZ</td>\n",
       "    </tr>\n",
       "    <tr>\n",
       "      <th>1</th>\n",
       "      <td>128378</td>\n",
       "      <td>2</td>\n",
       "      <td>CCAC</td>\n",
       "      <td>ZCCACZ</td>\n",
       "    </tr>\n",
       "  </tbody>\n",
       "</table>\n",
       "</div>"
      ],
      "text/plain": [
       "  seq_name  count   seq    seqZ\n",
       "0      123     10   CCC   ZCCCZ\n",
       "1   128378      2  CCAC  ZCCACZ"
      ]
     },
     "execution_count": null,
     "metadata": {},
     "output_type": "execute_result"
    }
   ],
   "source": [
    "df_test_post"
   ]
  },
  {
   "cell_type": "code",
   "execution_count": null,
   "metadata": {},
   "outputs": [],
   "source": []
  },
  {
   "cell_type": "code",
   "execution_count": null,
   "metadata": {},
   "outputs": [
    {
     "data": {
      "text/plain": [
       "array(['123', 2, 'CCC', 'ZCCCZ'], dtype=object)"
      ]
     },
     "execution_count": null,
     "metadata": {},
     "output_type": "execute_result"
    }
   ],
   "source": [
    "df_test_pre.values[0]"
   ]
  },
  {
   "cell_type": "code",
   "execution_count": null,
   "metadata": {},
   "outputs": [],
   "source": []
  }
 ],
 "metadata": {
  "kernelspec": {
   "display_name": "Python 3",
   "language": "python",
   "name": "python3"
  }
 },
 "nbformat": 4,
 "nbformat_minor": 4
}
