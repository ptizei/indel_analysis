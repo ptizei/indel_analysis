{
 "cells": [
  {
   "cell_type": "code",
   "execution_count": null,
   "metadata": {},
   "outputs": [],
   "source": [
    "# default_exp zscore"
   ]
  },
  {
   "cell_type": "markdown",
   "metadata": {},
   "source": [
    "# zscore\n",
    "\n",
    "This module can be used to calculate enrichment z-scores from pre- and post-selection '.csv' files containing read counts\n",
    "\n",
    "> API details"
   ]
  },
  {
   "cell_type": "code",
   "execution_count": null,
   "metadata": {},
   "outputs": [],
   "source": [
    "#hide\n",
    "from nbdev.showdoc import *\n",
    "from pathlib import Path\n",
    "import pandas as pd\n",
    "\n"
   ]
  },
  {
   "cell_type": "code",
   "execution_count": null,
   "metadata": {},
   "outputs": [],
   "source": [
    "# STEPS TO IMPLEMENT\n",
    "\n",
    "#make a dataframe from each input csv\n",
    "    # same func for pos and neg?\n",
    "    # \n",
    "#read in library sizes from separate .csv\n",
    "#calculate ratio of neg and pos lib sizes to use in Zscore calc\n",
    "    # one func to do both\n",
    "\n",
    "neg_counts_csv = Path.cwd()/'tests/test-selection-pre-in.csv'\n",
    "pos_counts_csv = Path.cwd()/'tests/test-selection-post-in.csv'\n",
    "zscore_csv = Path.cwd()/'tests/test-selection-zscore-out.csv'\n",
    "    \n",
    "def calc_enrichment_zscores(input_neg_file, input_pos_file, input_libsize_file, output_file):\n",
    "    df_neg = read_count_csv(input_neg_file)\n",
    "    df_pos = read_count_csv(input_pos_file)\n",
    "    print(df_neg.head())\n",
    "    print(df_pos.head())\n",
    "    df_enrichment = build_enrichment_df(df_neg, df_pos)\n",
    "    print(df_enrichment.head)\n",
    "    \n",
    "    \n",
    "    \n",
    "def read_count_csv(input_file) -> pd.core.frame.DataFrame:\n",
    "    df_count = pd.read_csv(input_file,\n",
    "                        index_col = 0,\n",
    "                        dtype = {'seq_name': str, 'count': int, 'seq': str, 'seqZ': str})\n",
    "    return df_count \n",
    "\n",
    "\n",
    "def build_enrichment_df(df_neg, df_pos) -> pd.core.frame.DataFrame:\n",
    "    df_pos.rename(columns = {'count': 'pos_count'}, inplace = True)\n",
    "    df_neg.rename(columns = {'count': 'neg_count'}, inplace = True)\n",
    "    \n",
    "    df_neg_cols_to_merge = df_neg[['neg_count','seq']]\n",
    "    \n",
    "    df_enrichment = pd.merge(df_pos, df_neg_cols_to_merge, on=\"seq\", how = \"left\")\n",
    "    df_enrichment['neg_count'] = df_enrichment['neg_count'].fillna(0)   \n",
    "    \n",
    "    list_blank_enrichment = [0.0] * len(df_enrichment)\n",
    "    list_blank_zscore = [0.0] * len(df_enrichment)\n",
    "    \n",
    "    df_enrichment['enrichment'] = list_blank_enrichment\n",
    "    df_enrichment['zscore'] = list_blank_zscore\n",
    "    \n",
    "    \n",
    "    return df_enrichment\n",
    "\n",
    "def read_libsize_csv(input_libsize_file) -> dict:\n",
    "    df_libsize = pd.read_csv(input_libsize_file, header=None, names=['reads'])\n",
    "    dict_libsize = {'pre': test_df['reads'][0]}\n",
    "    dict_libsize['post'] = test_df['reads'][1]\n",
    "    \n",
    "    \n",
    "    return dict_libsize\n",
    "    #read csv and return libsizes as two ints\n",
    "\n",
    "#make a dataframe to hold the combined counts, the raw enrichment ratio and the final zscore\n",
    "#copy all pos dataframe data into the combined df\n",
    "\n",
    "#loop over neg dataframe and add counts to "
   ]
  },
  {
   "cell_type": "code",
   "execution_count": null,
   "metadata": {},
   "outputs": [
    {
     "name": "stdout",
     "output_type": "stream",
     "text": [
      "  seq_name  count   seq    seqZ\n",
      "0      123      2   CCC   ZCCCZ\n",
      "1   128378      3  CCAC  ZCCACZ\n",
      "2      18b      1   DYT   ZDYTZ\n",
      "3      b00     10   DDK   ZDDKZ\n",
      "  seq_name  count   seq    seqZ\n",
      "0      123     10   CCC   ZCCCZ\n",
      "1   128378      2  CCAC  ZCCACZ\n",
      "2      14a      5   CDK   ZCDKZ\n",
      "<bound method NDFrame.head of   seq_name  pos_count   seq    seqZ  neg_count  enrichment  zscore\n",
      "0      123         10   CCC   ZCCCZ        2.0         0.0     0.0\n",
      "1   128378          2  CCAC  ZCCACZ        3.0         0.0     0.0\n",
      "2      14a          5   CDK   ZCDKZ        0.0         0.0     0.0>\n"
     ]
    }
   ],
   "source": [
    "calc_enrichment_zscores(neg_counts_csv, pos_counts_csv, zscore_csv, zscore_csv)\n"
   ]
  },
  {
   "cell_type": "code",
   "execution_count": null,
   "metadata": {},
   "outputs": [
    {
     "data": {
      "text/plain": [
       "{'pre': 6575072, 'post': 63612}"
      ]
     },
     "execution_count": null,
     "metadata": {},
     "output_type": "execute_result"
    }
   ],
   "source": [
    "read_libsize_csv(Path.cwd()/'tests/2g_librarySizes.csv')"
   ]
  },
  {
   "cell_type": "code",
   "execution_count": null,
   "metadata": {},
   "outputs": [
    {
     "data": {
      "text/plain": [
       "{'pre': 6575072, 'post': 63612}"
      ]
     },
     "execution_count": null,
     "metadata": {},
     "output_type": "execute_result"
    }
   ],
   "source": [
    "test_df = pd.read_csv(Path.cwd()/'tests/2g_librarySizes.csv', header=None, names=['reads'])\n",
    "test_dict = {'pre': test_df['reads'][0]}\n",
    "test_dict['post'] = test_df['reads'][1]\n",
    "test_dict"
   ]
  },
  {
   "cell_type": "markdown",
   "metadata": {},
   "source": [
    "# Testing\n"
   ]
  },
  {
   "cell_type": "markdown",
   "metadata": {},
   "source": [
    "## read_count_csv"
   ]
  },
  {
   "cell_type": "code",
   "execution_count": null,
   "metadata": {},
   "outputs": [],
   "source": [
    "test_selection_pre_input_csv_path = Path.cwd()/'tests/test-selection-pre-in.csv'\n",
    "test_selection_post_input_csv_path = Path.cwd()/'tests/test-selection-post-in.csv'\n",
    "\n",
    "df_test_pre=read_count_csv(test_selection_pre_input_csv_path)\n",
    "df_test_post=read_count_csv(test_selection_post_input_csv_path)\n",
    "\n",
    "\n",
    "assert isinstance(df_test_pre, pd.core.frame.DataFrame)\n",
    "assert df_test_pre['count'][0] == 2\n",
    "assert df_test_pre['seqZ'][0] == 'ZCCCZ'\n",
    "\n",
    "\n",
    "assert isinstance(df_test_post, pd.core.frame.DataFrame)\n",
    "assert df_test_post['count'][0] == 10\n",
    "assert df_test_post['seqZ'][0] == 'ZCCCZ'"
   ]
  },
  {
   "cell_type": "markdown",
   "metadata": {},
   "source": [
    "## build_enrichment_df"
   ]
  },
  {
   "cell_type": "code",
   "execution_count": null,
   "metadata": {},
   "outputs": [],
   "source": [
    "df_test_enrichment = build_enrichment_df(df_test_pre, df_test_post)\n",
    "\n",
    "assert isinstance(df_test_enrichment, pd.core.frame.DataFrame)\n",
    "assert df_test_enrichment['pos_count'][2] == 5 \n",
    "assert df_test_enrichment['neg_count'][2] == 0\n",
    "assert df_test_enrichment['enrichment'][2] == 0"
   ]
  }
 ],
 "metadata": {
  "kernelspec": {
   "display_name": "Python 3",
   "language": "python",
   "name": "python3"
  }
 },
 "nbformat": 4,
 "nbformat_minor": 4
}
